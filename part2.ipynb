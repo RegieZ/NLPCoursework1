{
 "cells": [
  {
   "cell_type": "code",
   "execution_count": 40,
   "metadata": {},
   "outputs": [],
   "source": [
    "# Importing the libraries\n",
    "import glob\n",
    "import numpy as np\n",
    "import pandas as pd\n",
    "from tqdm import tqdm # Progress bar for long loops\n",
    "from nltk import ngrams\n",
    "from nltk.corpus import stopwords\n",
    "from nltk.stem import WordNetLemmatizer\n",
    "from nltk.tokenize import word_tokenize\n",
    "from sklearn import metrics\n",
    "from sklearn.model_selection import train_test_split, GridSearchCV\n",
    "from sklearn.feature_selection import chi2, SelectKBest\n",
    "from sklearn.ensemble import RandomForestClassifier\n",
    "from matplotlib import pyplot as plt"
   ]
  },
  {
   "cell_type": "code",
   "execution_count": 2,
   "metadata": {},
   "outputs": [],
   "source": [
    "lemmatizer = WordNetLemmatizer()\n",
    "english_stopwords = set(stopwords.words('english'))"
   ]
  },
  {
   "cell_type": "markdown",
   "metadata": {},
   "source": [
    "# 1. Data reading and preprocessing"
   ]
  },
  {
   "cell_type": "code",
   "execution_count": 3,
   "metadata": {},
   "outputs": [
    {
     "data": {
      "text/plain": [
       "label\n",
       "sport            511\n",
       "business         510\n",
       "politics         417\n",
       "tech             401\n",
       "entertainment    386\n",
       "Name: count, dtype: int64"
      ]
     },
     "execution_count": 3,
     "metadata": {},
     "output_type": "execute_result"
    }
   ],
   "source": [
    "# Find all the files in the bbc folder\n",
    "all_data = glob.glob(\"./datasets_coursework1/bbc/*/*.txt\")\n",
    "\n",
    "# Make pandas dataframe\n",
    "dataset = []\n",
    "for document in all_data:\n",
    "    with open(document, 'r') as fp:\n",
    "        text = fp.read()\n",
    "    label = document.split('/')[3]\n",
    "    dataset.append(dict(text=text, label=label))\n",
    "df = pd.DataFrame(dataset)\n",
    "df.label.value_counts()"
   ]
  },
  {
   "cell_type": "code",
   "execution_count": 4,
   "metadata": {},
   "outputs": [
    {
     "name": "stderr",
     "output_type": "stream",
     "text": [
      "100%|██████████| 2225/2225 [00:05<00:00, 416.05it/s]\n"
     ]
    }
   ],
   "source": [
    "# Define the text preprocessing function\n",
    "def preprocess_text(text):\n",
    "    # Text tokenization using nltk\n",
    "    tokens = word_tokenize(text)\n",
    "    # Lowercasing\n",
    "    tokens = [word.lower() for word in tokens]\n",
    "    # Remove non-alphabetic characters\n",
    "    tokens = [word for word in tokens if word.isalpha()]\n",
    "    # Remove words with length <= 2\n",
    "    tokens = [word for word in tokens if len(word) > 2]\n",
    "    # Remove stopwords\n",
    "    tokens = [word for word in tokens if word not in english_stopwords]\n",
    "    # Lemmatization\n",
    "    tokens = [lemmatizer.lemmatize(word) for word in tokens]\n",
    "    # Join the tokens back into a single string\n",
    "    text = ' '.join(tokens)\n",
    "    return text\n",
    "    \n",
    "# Apply the text preprocessing function to the text column\n",
    "df['text'] = [preprocess_text(text) for text in tqdm(df['text'])]"
   ]
  },
  {
   "cell_type": "code",
   "execution_count": 5,
   "metadata": {},
   "outputs": [
    {
     "name": "stdout",
     "output_type": "stream",
     "text": [
      "Training set size: 1780\n",
      "Testing set size: 445\n"
     ]
    }
   ],
   "source": [
    "# Apply sklearn's train_test_split function to split the dataset into training and testing sets\n",
    "df_train, df_test = train_test_split(df, test_size=0.2, random_state=42, stratify=df['label'])\n",
    "print(\"Training set size:\", df_train.shape[0])\n",
    "print(\"Testing set size:\", df_test.shape[0])"
   ]
  },
  {
   "cell_type": "markdown",
   "metadata": {},
   "source": [
    "# 2. Text vectorization"
   ]
  },
  {
   "cell_type": "code",
   "execution_count": 12,
   "metadata": {},
   "outputs": [],
   "source": [
    "# Define the function to extract n-grams from the text\n",
    "NGRAM = (1, 2) # Unigrams and bigrams"
   ]
  },
  {
   "cell_type": "code",
   "execution_count": 6,
   "metadata": {},
   "outputs": [
    {
     "name": "stdout",
     "output_type": "stream",
     "text": [
      "['this', 'is', 'a', 'test', 'document', 'this is', 'is a', 'a test', 'test document']\n"
     ]
    }
   ],
   "source": [
    "# An utility function to get list of n-gram tokens from a text document\n",
    "def get_ngram_tokens(tokens, ngram=NGRAM):\n",
    "    ngram_tokens = []\n",
    "    for i in range(ngram[0], ngram[1]+1):\n",
    "        ngram_tokens += list(ngrams(tokens, i))\n",
    "    ngram_tokens = [' '.join(token) for token in ngram_tokens]\n",
    "    return ngram_tokens\n",
    "\n",
    "# Test\n",
    "print(get_ngram_tokens(['this', 'is', 'a', 'test', 'document'], ngram=(1, 2)))"
   ]
  },
  {
   "cell_type": "code",
   "execution_count": 7,
   "metadata": {},
   "outputs": [
    {
     "name": "stdout",
     "output_type": "stream",
     "text": [
      "Vocabulary size: 13497\n"
     ]
    }
   ],
   "source": [
    "# Term frequencies\n",
    "def build_vocabulary(documents, ngram=NGRAM):\n",
    "    vocabulary = {}\n",
    "    for document in documents:\n",
    "        ngram_tokens = get_ngram_tokens(document.split(), ngram)\n",
    "        for token in ngram_tokens:\n",
    "            if token not in vocabulary:\n",
    "                vocabulary[token] = 1\n",
    "            else:\n",
    "                vocabulary[token] += 1\n",
    "    return vocabulary\n",
    "\n",
    "vocab = build_vocabulary(df_train['text'])\n",
    "# Remove terms that appear in less than 5 documents\n",
    "vocab = {k: v for k, v in vocab.items() if v >= 5}\n",
    "# Remove terms that appear in more than 50% of the documents\n",
    "vocab = {k: v for k, v in vocab.items() if v / df_train.shape[0] <= 0.5}\n",
    "\n",
    "# Print final vocabulary size\n",
    "print(\"Vocabulary size:\", len(vocab))"
   ]
  },
  {
   "cell_type": "code",
   "execution_count": 9,
   "metadata": {},
   "outputs": [
    {
     "name": "stderr",
     "output_type": "stream",
     "text": [
      "Vectorizing training set: 100%|██████████| 1780/1780 [00:41<00:00, 42.66it/s]\n",
      "Vectorizing testing set: 100%|██████████| 445/445 [00:09<00:00, 45.97it/s]\n"
     ]
    }
   ],
   "source": [
    "# Vectorize the text using the vocabulary\n",
    "def build_text_vector(vocab, documents, ngram=NGRAM):\n",
    "    vec = np.zeros((len(documents), len(vocab)))\n",
    "    for i, document in enumerate(documents):\n",
    "        ngram_tokens = get_ngram_tokens(document.split(), ngram)\n",
    "        for token in ngram_tokens:\n",
    "            if token in vocab:\n",
    "                vec[i, list(vocab.keys()).index(token)] = 1\n",
    "    return vec\n",
    "\n",
    "train_tf = build_text_vector(vocab, tqdm(df_train['text'], desc=\"Vectorizing training set\"))\n",
    "test_tf = build_text_vector(vocab, tqdm(df_test['text'], desc=\"Vectorizing testing set\"))"
   ]
  },
  {
   "cell_type": "code",
   "execution_count": 10,
   "metadata": {},
   "outputs": [
    {
     "name": "stdout",
     "output_type": "stream",
     "text": [
      "Training set shape: (1780, 13497)\n",
      "Testing set shape: (445, 13497)\n"
     ]
    }
   ],
   "source": [
    "print(\"Training set shape:\", train_tf.shape)\n",
    "print(\"Testing set shape:\", test_tf.shape)"
   ]
  },
  {
   "cell_type": "markdown",
   "metadata": {},
   "source": [
    "# 3. Select other features"
   ]
  },
  {
   "cell_type": "markdown",
   "metadata": {},
   "source": [
    "### 3.1 Text Lengths"
   ]
  },
  {
   "cell_type": "code",
   "execution_count": 23,
   "metadata": {},
   "outputs": [
    {
     "data": {
      "image/png": "[encoded data removed]",
      "text/plain": [
       "<Figure size 500x200 with 1 Axes>"
      ]
     },
     "metadata": {},
     "output_type": "display_data"
    }
   ],
   "source": [
    "# Boxplot the text lengths over labels\n",
    "text_lengths = df_train['text'].apply(lambda x: len(x.split()))\n",
    "text_lengths_df = pd.DataFrame(dict(text_length=text_lengths, label=df_train['label']))\n",
    "plt.figure(figsize=(5, 2))\n",
    "plt.title(\"Text length distribution over labels\")\n",
    "plt.xlabel(\"Label\")\n",
    "plt.ylabel(\"Text length\")\n",
    "plt.boxplot([text_lengths_df[text_lengths_df['label'] == label]['text_length'] for label in text_lengths_df['label'].unique()], labels=text_lengths_df['label'].unique())\n",
    "plt.show()"
   ]
  },
  {
   "cell_type": "markdown",
   "metadata": {},
   "source": [
    "### 3.2 Average token lengths"
   ]
  },
  {
   "cell_type": "code",
   "execution_count": 24,
   "metadata": {},
   "outputs": [
    {
     "data": {
      "image/png": "[encoded data removed]",
      "text/plain": [
       "<Figure size 500x200 with 1 Axes>"
      ]
     },
     "metadata": {},
     "output_type": "display_data"
    }
   ],
   "source": [
    "# Boxplot the average token length over labels\n",
    "avg_token_lengths = df_train['text'].apply(lambda x: np.mean([len(token) for token in x.split()]))\n",
    "avg_token_lengths_df = pd.DataFrame(dict(avg_token_length=avg_token_lengths, label=df_train['label']))\n",
    "plt.figure(figsize=(5, 2))\n",
    "plt.title(\"Average token length distribution over labels\")\n",
    "plt.xlabel(\"Label\")\n",
    "plt.ylabel(\"Average token length\")\n",
    "plt.boxplot([avg_token_lengths_df[avg_token_lengths_df['label'] == label]['avg_token_length'] for label in avg_token_lengths_df['label'].unique()], labels=avg_token_lengths_df['label'].unique())\n",
    "plt.show()"
   ]
  },
  {
   "cell_type": "markdown",
   "metadata": {},
   "source": [
    "# 3. Hyperparameter Tuning"
   ]
  },
  {
   "cell_type": "code",
   "execution_count": 26,
   "metadata": {},
   "outputs": [
    {
     "name": "stdout",
     "output_type": "stream",
     "text": [
      "Training set shape: (1780, 13499)\n",
      "Testing set shape: (445, 13499)\n"
     ]
    }
   ],
   "source": [
    "# Concatenate into feature vector\n",
    "train_features = np.concatenate([train_tf, \n",
    "                                 text_lengths_df['text_length'].values.reshape(-1, 1), \n",
    "                                 avg_token_lengths_df['avg_token_length'].values.reshape(-1, 1)], axis=1)\n",
    "test_features = np.concatenate([test_tf, \n",
    "                                df_test['text'].apply(lambda x: len(x.split())).values.reshape(-1, 1), \n",
    "                                df_test['text'].apply(lambda x: np.mean([len(token) for token in x.split()])).values.reshape(-1, 1)], axis=1)\n",
    "print(\"Training set shape:\", train_features.shape)\n",
    "print(\"Testing set shape:\", test_features.shape)"
   ]
  },
  {
   "cell_type": "code",
   "execution_count": 46,
   "metadata": {},
   "outputs": [
    {
     "name": "stdout",
     "output_type": "stream",
     "text": [
      "Fitting 5 folds for each of 40 candidates, totalling 200 fits\n",
      "[CV] END ................min_samples_leaf=1, n_estimators=10; total time=   1.3s\n",
      "[CV] END ................min_samples_leaf=1, n_estimators=10; total time=   1.6s\n",
      "[CV] END ................min_samples_leaf=1, n_estimators=10; total time=   1.6s\n",
      "[CV] END ................min_samples_leaf=1, n_estimators=10; total time=   1.7s\n",
      "[CV] END ................min_samples_leaf=1, n_estimators=10; total time=   1.7s\n",
      "[CV] END ................min_samples_leaf=1, n_estimators=50; total time=   4.9s\n",
      "[CV] END ................min_samples_leaf=1, n_estimators=50; total time=   5.1s\n",
      "[CV] END ................min_samples_leaf=1, n_estimators=50; total time=   5.1s\n",
      "[CV] END ................min_samples_leaf=1, n_estimators=50; total time=   5.2s\n",
      "[CV] END ................min_samples_leaf=1, n_estimators=50; total time=   5.3s\n",
      "[CV] END ...............min_samples_leaf=1, n_estimators=100; total time=   9.6s\n",
      "[CV] END ...............min_samples_leaf=1, n_estimators=100; total time=   9.7s\n",
      "[CV] END ...............min_samples_leaf=1, n_estimators=100; total time=  10.0s\n",
      "[CV] END ...............min_samples_leaf=1, n_estimators=100; total time=  10.3s\n",
      "[CV] END ...............min_samples_leaf=1, n_estimators=100; total time=  10.7s\n",
      "[CV] END ...............min_samples_leaf=1, n_estimators=200; total time=  18.8s\n",
      "[CV] END ...............min_samples_leaf=1, n_estimators=200; total time=  18.4s\n",
      "[CV] END ...............min_samples_leaf=1, n_estimators=200; total time=  18.0s\n",
      "[CV] END ...............min_samples_leaf=1, n_estimators=200; total time=  18.4s\n",
      "[CV] END ...............min_samples_leaf=1, n_estimators=200; total time=  19.2s\n",
      "[CV] END ...............min_samples_leaf=1, n_estimators=300; total time=  26.8s\n",
      "[CV] END ...............min_samples_leaf=1, n_estimators=300; total time=  26.3s\n",
      "[CV] END ...............min_samples_leaf=1, n_estimators=300; total time=  27.3s\n",
      "[CV] END ...............min_samples_leaf=1, n_estimators=300; total time=  27.3s\n",
      "[CV] END ...............min_samples_leaf=1, n_estimators=300; total time=  29.1s\n",
      "[CV] END ................min_samples_leaf=2, n_estimators=10; total time=   0.9s\n",
      "[CV] END ................min_samples_leaf=2, n_estimators=10; total time=   1.1s\n",
      "[CV] END ................min_samples_leaf=2, n_estimators=10; total time=   1.5s\n",
      "[CV] END ................min_samples_leaf=2, n_estimators=10; total time=   1.2s\n",
      "[CV] END ................min_samples_leaf=2, n_estimators=10; total time=   1.1s\n",
      "[CV] END ...............min_samples_leaf=1, n_estimators=400; total time=  37.4s\n",
      "[CV] END ................min_samples_leaf=2, n_estimators=50; total time=   4.7s\n",
      "[CV] END ...............min_samples_leaf=1, n_estimators=400; total time=  36.1s\n",
      "[CV] END ...............min_samples_leaf=1, n_estimators=400; total time=  36.3s\n",
      "[CV] END ...............min_samples_leaf=1, n_estimators=400; total time=  36.0s\n",
      "[CV] END ................min_samples_leaf=2, n_estimators=50; total time=   4.2s\n",
      "[CV] END ...............min_samples_leaf=1, n_estimators=400; total time=  36.6s\n",
      "[CV] END ................min_samples_leaf=2, n_estimators=50; total time=   4.8s\n",
      "[CV] END ................min_samples_leaf=2, n_estimators=50; total time=   4.6s\n",
      "[CV] END ................min_samples_leaf=2, n_estimators=50; total time=   4.5s\n",
      "[CV] END ...............min_samples_leaf=2, n_estimators=100; total time=   8.5s\n",
      "[CV] END ...............min_samples_leaf=1, n_estimators=500; total time=  44.2s\n",
      "[CV] END ...............min_samples_leaf=2, n_estimators=100; total time=   8.5s\n",
      "[CV] END ...............min_samples_leaf=2, n_estimators=100; total time=   9.4s\n",
      "[CV] END ...............min_samples_leaf=2, n_estimators=100; total time=   8.8s\n",
      "[CV] END ...............min_samples_leaf=2, n_estimators=100; total time=   9.1s\n",
      "[CV] END ...............min_samples_leaf=1, n_estimators=500; total time=  46.4s\n",
      "[CV] END ...............min_samples_leaf=1, n_estimators=500; total time=  45.9s\n",
      "[CV] END ...............min_samples_leaf=1, n_estimators=500; total time=  45.8s\n",
      "[CV] END ...............min_samples_leaf=1, n_estimators=500; total time=  47.1s\n",
      "[CV] END ...............min_samples_leaf=2, n_estimators=200; total time=  16.9s\n",
      "[CV] END ...............min_samples_leaf=2, n_estimators=200; total time=  17.8s\n",
      "[CV] END ...............min_samples_leaf=2, n_estimators=200; total time=  16.5s\n",
      "[CV] END ...............min_samples_leaf=2, n_estimators=200; total time=  18.0s\n",
      "[CV] END ...............min_samples_leaf=2, n_estimators=200; total time=  18.9s\n",
      "[CV] END ...............min_samples_leaf=1, n_estimators=600; total time=  53.6s\n",
      "[CV] END ...............min_samples_leaf=1, n_estimators=600; total time=  53.6s\n",
      "[CV] END ...............min_samples_leaf=2, n_estimators=300; total time=  25.5s\n",
      "[CV] END ...............min_samples_leaf=1, n_estimators=600; total time=  53.3s\n",
      "[CV] END ...............min_samples_leaf=2, n_estimators=300; total time=  27.3s\n",
      "[CV] END ...............min_samples_leaf=1, n_estimators=600; total time=  56.0s\n",
      "[CV] END ...............min_samples_leaf=1, n_estimators=600; total time=  55.4s\n",
      "[CV] END ...............min_samples_leaf=2, n_estimators=300; total time=  25.6s\n",
      "[CV] END ...............min_samples_leaf=2, n_estimators=300; total time=  26.1s\n",
      "[CV] END ...............min_samples_leaf=2, n_estimators=300; total time=  28.4s\n",
      "[CV] END ................min_samples_leaf=4, n_estimators=10; total time=   1.1s\n",
      "[CV] END ................min_samples_leaf=4, n_estimators=10; total time=   1.1s\n",
      "[CV] END ................min_samples_leaf=4, n_estimators=10; total time=   1.1s\n",
      "[CV] END ................min_samples_leaf=4, n_estimators=10; total time=   1.3s\n",
      "[CV] END ...............min_samples_leaf=2, n_estimators=400; total time=  31.6s\n",
      "[CV] END ................min_samples_leaf=4, n_estimators=10; total time=   1.1s\n",
      "[CV] END ...............min_samples_leaf=2, n_estimators=400; total time=  34.3s\n",
      "[CV] END ................min_samples_leaf=4, n_estimators=50; total time=   3.8s\n",
      "[CV] END ................min_samples_leaf=4, n_estimators=50; total time=   3.9s\n",
      "[CV] END ................min_samples_leaf=4, n_estimators=50; total time=   4.3s\n",
      "[CV] END ................min_samples_leaf=4, n_estimators=50; total time=   4.1s\n",
      "[CV] END ...............min_samples_leaf=2, n_estimators=400; total time=  34.2s\n",
      "[CV] END ................min_samples_leaf=4, n_estimators=50; total time=   3.7s\n",
      "[CV] END ...............min_samples_leaf=2, n_estimators=400; total time=  35.7s\n",
      "[CV] END ...............min_samples_leaf=2, n_estimators=400; total time=  36.9s\n",
      "[CV] END ...............min_samples_leaf=4, n_estimators=100; total time=   7.3s\n",
      "[CV] END ...............min_samples_leaf=4, n_estimators=100; total time=   7.8s\n",
      "[CV] END ...............min_samples_leaf=4, n_estimators=100; total time=   7.9s\n",
      "[CV] END ...............min_samples_leaf=4, n_estimators=100; total time=   8.2s\n",
      "[CV] END ...............min_samples_leaf=4, n_estimators=100; total time=   7.9s\n",
      "[CV] END ...............min_samples_leaf=2, n_estimators=500; total time=  42.7s\n",
      "[CV] END ...............min_samples_leaf=2, n_estimators=500; total time=  45.5s\n",
      "[CV] END ...............min_samples_leaf=4, n_estimators=200; total time=  14.8s\n",
      "[CV] END ...............min_samples_leaf=2, n_estimators=500; total time=  43.2s\n",
      "[CV] END ...............min_samples_leaf=4, n_estimators=200; total time=  14.5s\n",
      "[CV] END ...............min_samples_leaf=2, n_estimators=500; total time=  41.8s\n",
      "[CV] END ...............min_samples_leaf=2, n_estimators=500; total time=  44.2s\n",
      "[CV] END ...............min_samples_leaf=4, n_estimators=200; total time=  14.5s\n",
      "[CV] END ...............min_samples_leaf=4, n_estimators=200; total time=  15.3s\n",
      "[CV] END ...............min_samples_leaf=4, n_estimators=200; total time=  15.9s\n",
      "[CV] END ...............min_samples_leaf=2, n_estimators=600; total time=  50.4s\n",
      "[CV] END ...............min_samples_leaf=2, n_estimators=600; total time=  50.7s\n",
      "[CV] END ...............min_samples_leaf=4, n_estimators=300; total time=  22.7s\n",
      "[CV] END ...............min_samples_leaf=2, n_estimators=600; total time=  52.0s\n",
      "[CV] END ...............min_samples_leaf=4, n_estimators=300; total time=  23.0s\n",
      "[CV] END ...............min_samples_leaf=4, n_estimators=300; total time=  22.9s\n",
      "[CV] END ...............min_samples_leaf=2, n_estimators=600; total time=  52.0s\n",
      "[CV] END ...............min_samples_leaf=2, n_estimators=600; total time=  51.5s\n",
      "[CV] END ...............min_samples_leaf=4, n_estimators=300; total time=  22.6s\n",
      "[CV] END ...............min_samples_leaf=4, n_estimators=300; total time=  23.3s\n",
      "[CV] END ................min_samples_leaf=8, n_estimators=10; total time=   1.0s\n",
      "[CV] END ................min_samples_leaf=8, n_estimators=10; total time=   1.0s\n",
      "[CV] END ................min_samples_leaf=8, n_estimators=10; total time=   1.0s\n",
      "[CV] END ................min_samples_leaf=8, n_estimators=10; total time=   1.0s\n",
      "[CV] END ................min_samples_leaf=8, n_estimators=10; total time=   1.0s\n",
      "[CV] END ...............min_samples_leaf=4, n_estimators=400; total time=  28.4s\n",
      "[CV] END ................min_samples_leaf=8, n_estimators=50; total time=   3.4s\n",
      "[CV] END ...............min_samples_leaf=4, n_estimators=400; total time=  30.4s\n",
      "[CV] END ................min_samples_leaf=8, n_estimators=50; total time=   3.3s\n",
      "[CV] END ...............min_samples_leaf=4, n_estimators=400; total time=  30.2s\n",
      "[CV] END ...............min_samples_leaf=4, n_estimators=400; total time=  31.9s\n",
      "[CV] END ................min_samples_leaf=8, n_estimators=50; total time=   4.1s\n",
      "[CV] END ................min_samples_leaf=8, n_estimators=50; total time=   3.8s\n",
      "[CV] END ...............min_samples_leaf=4, n_estimators=400; total time=  31.2s\n",
      "[CV] END ................min_samples_leaf=8, n_estimators=50; total time=   3.4s\n",
      "[CV] END ...............min_samples_leaf=8, n_estimators=100; total time=   6.9s\n",
      "[CV] END ...............min_samples_leaf=8, n_estimators=100; total time=   6.5s\n",
      "[CV] END ...............min_samples_leaf=8, n_estimators=100; total time=   7.0s\n",
      "[CV] END ...............min_samples_leaf=8, n_estimators=100; total time=   6.9s\n",
      "[CV] END ...............min_samples_leaf=8, n_estimators=100; total time=   7.2s\n",
      "[CV] END ...............min_samples_leaf=4, n_estimators=500; total time=  38.4s\n",
      "[CV] END ...............min_samples_leaf=4, n_estimators=500; total time=  37.4s\n",
      "[CV] END ...............min_samples_leaf=8, n_estimators=200; total time=  13.0s\n",
      "[CV] END ...............min_samples_leaf=4, n_estimators=500; total time=  39.3s\n",
      "[CV] END ...............min_samples_leaf=4, n_estimators=500; total time=  37.9s\n",
      "[CV] END ...............min_samples_leaf=4, n_estimators=500; total time=  39.9s\n",
      "[CV] END ...............min_samples_leaf=8, n_estimators=200; total time=  12.9s\n",
      "[CV] END ...............min_samples_leaf=8, n_estimators=200; total time=  12.9s\n",
      "[CV] END ...............min_samples_leaf=8, n_estimators=200; total time=  12.1s\n",
      "[CV] END ...............min_samples_leaf=8, n_estimators=200; total time=  12.8s\n",
      "[CV] END ...............min_samples_leaf=4, n_estimators=600; total time=  46.8s\n",
      "[CV] END ...............min_samples_leaf=4, n_estimators=600; total time=  46.6s\n",
      "[CV] END ...............min_samples_leaf=8, n_estimators=300; total time=  19.8s\n",
      "[CV] END ...............min_samples_leaf=8, n_estimators=300; total time=  20.9s\n",
      "[CV] END ...............min_samples_leaf=4, n_estimators=600; total time=  46.4s\n",
      "[CV] END ...............min_samples_leaf=4, n_estimators=600; total time=  47.1s\n",
      "[CV] END ...............min_samples_leaf=4, n_estimators=600; total time=  45.6s\n",
      "[CV] END ...............min_samples_leaf=8, n_estimators=300; total time=  19.8s\n",
      "[CV] END ...............min_samples_leaf=8, n_estimators=300; total time=  20.2s\n",
      "[CV] END ...............min_samples_leaf=8, n_estimators=300; total time=  20.7s\n",
      "[CV] END ...............min_samples_leaf=16, n_estimators=10; total time=   0.9s\n",
      "[CV] END ...............min_samples_leaf=16, n_estimators=10; total time=   0.8s\n",
      "[CV] END ...............min_samples_leaf=16, n_estimators=10; total time=   0.9s\n",
      "[CV] END ...............min_samples_leaf=16, n_estimators=10; total time=   0.8s\n",
      "[CV] END ...............min_samples_leaf=16, n_estimators=10; total time=   0.8s\n",
      "[CV] END ...............min_samples_leaf=8, n_estimators=400; total time=  25.5s\n",
      "[CV] END ...............min_samples_leaf=8, n_estimators=400; total time=  26.1s\n",
      "[CV] END ...............min_samples_leaf=16, n_estimators=50; total time=   3.1s\n",
      "[CV] END ...............min_samples_leaf=8, n_estimators=400; total time=  26.4s\n",
      "[CV] END ...............min_samples_leaf=16, n_estimators=50; total time=   3.1s\n",
      "[CV] END ...............min_samples_leaf=8, n_estimators=400; total time=  26.6s\n",
      "[CV] END ...............min_samples_leaf=16, n_estimators=50; total time=   2.9s\n",
      "[CV] END ...............min_samples_leaf=8, n_estimators=400; total time=  27.5s\n",
      "[CV] END ...............min_samples_leaf=16, n_estimators=50; total time=   2.7s\n",
      "[CV] END ...............min_samples_leaf=16, n_estimators=50; total time=   3.1s\n",
      "[CV] END ..............min_samples_leaf=16, n_estimators=100; total time=   5.6s\n",
      "[CV] END ..............min_samples_leaf=16, n_estimators=100; total time=   5.7s\n",
      "[CV] END ..............min_samples_leaf=16, n_estimators=100; total time=   5.5s\n",
      "[CV] END ..............min_samples_leaf=16, n_estimators=100; total time=   5.7s\n",
      "[CV] END ...............min_samples_leaf=8, n_estimators=500; total time=  32.6s\n",
      "[CV] END ..............min_samples_leaf=16, n_estimators=100; total time=   6.0s\n",
      "[CV] END ..............min_samples_leaf=16, n_estimators=200; total time=  10.1s\n",
      "[CV] END ...............min_samples_leaf=8, n_estimators=500; total time=  32.8s\n",
      "[CV] END ...............min_samples_leaf=8, n_estimators=500; total time=  33.2s\n",
      "[CV] END ..............min_samples_leaf=16, n_estimators=200; total time=  10.9s\n",
      "[CV] END ...............min_samples_leaf=8, n_estimators=500; total time=  34.0s\n",
      "[CV] END ..............min_samples_leaf=16, n_estimators=200; total time=  11.4s\n",
      "[CV] END ...............min_samples_leaf=8, n_estimators=500; total time=  33.8s\n",
      "[CV] END ..............min_samples_leaf=16, n_estimators=200; total time=  10.2s\n",
      "[CV] END ..............min_samples_leaf=16, n_estimators=200; total time=  10.6s\n",
      "[CV] END ...............min_samples_leaf=8, n_estimators=600; total time=  39.1s\n",
      "[CV] END ..............min_samples_leaf=16, n_estimators=300; total time=  15.6s\n",
      "[CV] END ..............min_samples_leaf=16, n_estimators=300; total time=  15.2s\n",
      "[CV] END ...............min_samples_leaf=8, n_estimators=600; total time=  40.4s\n",
      "[CV] END ...............min_samples_leaf=8, n_estimators=600; total time=  40.7s\n",
      "[CV] END ...............min_samples_leaf=8, n_estimators=600; total time=  39.7s\n",
      "[CV] END ...............min_samples_leaf=8, n_estimators=600; total time=  38.4s\n",
      "[CV] END ..............min_samples_leaf=16, n_estimators=300; total time=  14.9s\n",
      "[CV] END ..............min_samples_leaf=16, n_estimators=300; total time=  17.2s\n",
      "[CV] END ..............min_samples_leaf=16, n_estimators=300; total time=  16.1s\n",
      "[CV] END ..............min_samples_leaf=16, n_estimators=400; total time=  19.8s\n",
      "[CV] END ..............min_samples_leaf=16, n_estimators=400; total time=  20.9s\n",
      "[CV] END ..............min_samples_leaf=16, n_estimators=400; total time=  20.6s\n",
      "[CV] END ..............min_samples_leaf=16, n_estimators=400; total time=  21.4s\n",
      "[CV] END ..............min_samples_leaf=16, n_estimators=400; total time=  21.2s\n",
      "[CV] END ..............min_samples_leaf=16, n_estimators=500; total time=  24.4s\n",
      "[CV] END ..............min_samples_leaf=16, n_estimators=500; total time=  20.3s\n",
      "[CV] END ..............min_samples_leaf=16, n_estimators=500; total time=  20.2s\n",
      "[CV] END ..............min_samples_leaf=16, n_estimators=500; total time=  21.8s\n",
      "[CV] END ..............min_samples_leaf=16, n_estimators=500; total time=  21.2s\n",
      "[CV] END ..............min_samples_leaf=16, n_estimators=600; total time=  19.4s\n",
      "[CV] END ..............min_samples_leaf=16, n_estimators=600; total time=  20.8s\n",
      "[CV] END ..............min_samples_leaf=16, n_estimators=600; total time=  18.4s\n",
      "[CV] END ..............min_samples_leaf=16, n_estimators=600; total time=  20.6s\n",
      "[CV] END ..............min_samples_leaf=16, n_estimators=600; total time=  20.3s\n"
     ]
    },
    {
     "data": {
      "text/html": [
       "<style>#sk-container-id-5 {color: black;background-color: white;}#sk-container-id-5 pre{padding: 0;}#sk-container-id-5 div.sk-toggleable {background-color: white;}#sk-container-id-5 label.sk-toggleable__label {cursor: pointer;display: block;width: 100%;margin-bottom: 0;padding: 0.3em;box-sizing: border-box;text-align: center;}#sk-container-id-5 label.sk-toggleable__label-arrow:before {content: \"▸\";float: left;margin-right: 0.25em;color: #696969;}#sk-container-id-5 label.sk-toggleable__label-arrow:hover:before {color: black;}#sk-container-id-5 div.sk-estimator:hover label.sk-toggleable__label-arrow:before {color: black;}#sk-container-id-5 div.sk-toggleable__content {max-height: 0;max-width: 0;overflow: hidden;text-align: left;background-color: #f0f8ff;}#sk-container-id-5 div.sk-toggleable__content pre {margin: 0.2em;color: black;border-radius: 0.25em;background-color: #f0f8ff;}#sk-container-id-5 input.sk-toggleable__control:checked~div.sk-toggleable__content {max-height: 200px;max-width: 100%;overflow: auto;}#sk-container-id-5 input.sk-toggleable__control:checked~label.sk-toggleable__label-arrow:before {content: \"▾\";}#sk-container-id-5 div.sk-estimator input.sk-toggleable__control:checked~label.sk-toggleable__label {background-color: #d4ebff;}#sk-container-id-5 div.sk-label input.sk-toggleable__control:checked~label.sk-toggleable__label {background-color: #d4ebff;}#sk-container-id-5 input.sk-hidden--visually {border: 0;clip: rect(1px 1px 1px 1px);clip: rect(1px, 1px, 1px, 1px);height: 1px;margin: -1px;overflow: hidden;padding: 0;position: absolute;width: 1px;}#sk-container-id-5 div.sk-estimator {font-family: monospace;background-color: #f0f8ff;border: 1px dotted black;border-radius: 0.25em;box-sizing: border-box;margin-bottom: 0.5em;}#sk-container-id-5 div.sk-estimator:hover {background-color: #d4ebff;}#sk-container-id-5 div.sk-parallel-item::after {content: \"\";width: 100%;border-bottom: 1px solid gray;flex-grow: 1;}#sk-container-id-5 div.sk-label:hover label.sk-toggleable__label {background-color: #d4ebff;}#sk-container-id-5 div.sk-serial::before {content: \"\";position: absolute;border-left: 1px solid gray;box-sizing: border-box;top: 0;bottom: 0;left: 50%;z-index: 0;}#sk-container-id-5 div.sk-serial {display: flex;flex-direction: column;align-items: center;background-color: white;padding-right: 0.2em;padding-left: 0.2em;position: relative;}#sk-container-id-5 div.sk-item {position: relative;z-index: 1;}#sk-container-id-5 div.sk-parallel {display: flex;align-items: stretch;justify-content: center;background-color: white;position: relative;}#sk-container-id-5 div.sk-item::before, #sk-container-id-5 div.sk-parallel-item::before {content: \"\";position: absolute;border-left: 1px solid gray;box-sizing: border-box;top: 0;bottom: 0;left: 50%;z-index: -1;}#sk-container-id-5 div.sk-parallel-item {display: flex;flex-direction: column;z-index: 1;position: relative;background-color: white;}#sk-container-id-5 div.sk-parallel-item:first-child::after {align-self: flex-end;width: 50%;}#sk-container-id-5 div.sk-parallel-item:last-child::after {align-self: flex-start;width: 50%;}#sk-container-id-5 div.sk-parallel-item:only-child::after {width: 0;}#sk-container-id-5 div.sk-dashed-wrapped {border: 1px dashed gray;margin: 0 0.4em 0.5em 0.4em;box-sizing: border-box;padding-bottom: 0.4em;background-color: white;}#sk-container-id-5 div.sk-label label {font-family: monospace;font-weight: bold;display: inline-block;line-height: 1.2em;}#sk-container-id-5 div.sk-label-container {text-align: center;}#sk-container-id-5 div.sk-container {/* jupyter's `normalize.less` sets `[hidden] { display: none; }` but bootstrap.min.css set `[hidden] { display: none !important; }` so we also need the `!important` here to be able to override the default hidden behavior on the sphinx rendered scikit-learn.org. See: https://github.com/scikit-learn/scikit-learn/issues/21755 */display: inline-block !important;position: relative;}#sk-container-id-5 div.sk-text-repr-fallback {display: none;}</style><div id=\"sk-container-id-5\" class=\"sk-top-container\"><div class=\"sk-text-repr-fallback\"><pre>GridSearchCV(cv=5, estimator=RandomForestClassifier(random_state=42), n_jobs=-1,\n",
       "             param_grid={&#x27;min_samples_leaf&#x27;: [1, 2, 4, 8, 16],\n",
       "                         &#x27;n_estimators&#x27;: [10, 50, 100, 200, 300, 400, 500,\n",
       "                                          600]},\n",
       "             verbose=2)</pre><b>In a Jupyter environment, please rerun this cell to show the HTML representation or trust the notebook. <br />On GitHub, the HTML representation is unable to render, please try loading this page with nbviewer.org.</b></div><div class=\"sk-container\" hidden><div class=\"sk-item sk-dashed-wrapped\"><div class=\"sk-label-container\"><div class=\"sk-label sk-toggleable\"><input class=\"sk-toggleable__control sk-hidden--visually\" id=\"sk-estimator-id-13\" type=\"checkbox\" ><label for=\"sk-estimator-id-13\" class=\"sk-toggleable__label sk-toggleable__label-arrow\">GridSearchCV</label><div class=\"sk-toggleable__content\"><pre>GridSearchCV(cv=5, estimator=RandomForestClassifier(random_state=42), n_jobs=-1,\n",
       "             param_grid={&#x27;min_samples_leaf&#x27;: [1, 2, 4, 8, 16],\n",
       "                         &#x27;n_estimators&#x27;: [10, 50, 100, 200, 300, 400, 500,\n",
       "                                          600]},\n",
       "             verbose=2)</pre></div></div></div><div class=\"sk-parallel\"><div class=\"sk-parallel-item\"><div class=\"sk-item\"><div class=\"sk-label-container\"><div class=\"sk-label sk-toggleable\"><input class=\"sk-toggleable__control sk-hidden--visually\" id=\"sk-estimator-id-14\" type=\"checkbox\" ><label for=\"sk-estimator-id-14\" class=\"sk-toggleable__label sk-toggleable__label-arrow\">estimator: RandomForestClassifier</label><div class=\"sk-toggleable__content\"><pre>RandomForestClassifier(random_state=42)</pre></div></div></div><div class=\"sk-serial\"><div class=\"sk-item\"><div class=\"sk-estimator sk-toggleable\"><input class=\"sk-toggleable__control sk-hidden--visually\" id=\"sk-estimator-id-15\" type=\"checkbox\" ><label for=\"sk-estimator-id-15\" class=\"sk-toggleable__label sk-toggleable__label-arrow\">RandomForestClassifier</label><div class=\"sk-toggleable__content\"><pre>RandomForestClassifier(random_state=42)</pre></div></div></div></div></div></div></div></div></div></div>"
      ],
      "text/plain": [
       "GridSearchCV(cv=5, estimator=RandomForestClassifier(random_state=42), n_jobs=-1,\n",
       "             param_grid={'min_samples_leaf': [1, 2, 4, 8, 16],\n",
       "                         'n_estimators': [10, 50, 100, 200, 300, 400, 500,\n",
       "                                          600]},\n",
       "             verbose=2)"
      ]
     },
     "execution_count": 46,
     "metadata": {},
     "output_type": "execute_result"
    }
   ],
   "source": [
    "params_grid = {\n",
    "    'n_estimators': [10, 50, 100, 200, 300, 400, 500, 600],\n",
    "    'min_samples_leaf': [1, 2, 4, 8, 16]\n",
    "}\n",
    "\n",
    "grid_search = GridSearchCV(RandomForestClassifier(random_state=42, max_depth=None),\n",
    "                           params_grid, cv=5, n_jobs=-1, verbose=2)\n",
    "grid_search.fit(train_features, df_train['label'])"
   ]
  },
  {
   "cell_type": "code",
   "execution_count": 49,
   "metadata": {},
   "outputs": [
    {
     "name": "stdout",
     "output_type": "stream",
     "text": [
      "Best parameters: {'min_samples_leaf': 1, 'n_estimators': 300}\n",
      "Best cross-validation score: 0.9623595505617978\n"
     ]
    }
   ],
   "source": [
    "print(\"Best parameters:\", grid_search.best_params_)\n",
    "print(\"Best cross-validation score:\", grid_search.best_score_)"
   ]
  },
  {
   "cell_type": "code",
   "execution_count": 52,
   "metadata": {},
   "outputs": [
    {
     "name": "stdout",
     "output_type": "stream",
     "text": [
      "Training accuracy: 1.0\n",
      "Testing accuracy: 0.9685393258426966\n",
      "               precision    recall  f1-score   support\n",
      "\n",
      "     business       0.95      0.98      0.97       102\n",
      "entertainment       1.00      0.96      0.98        77\n",
      "     politics       0.96      0.92      0.94        84\n",
      "        sport       0.98      1.00      0.99       102\n",
      "         tech       0.95      0.97      0.96        80\n",
      "\n",
      "     accuracy                           0.97       445\n",
      "    macro avg       0.97      0.97      0.97       445\n",
      " weighted avg       0.97      0.97      0.97       445\n",
      "\n"
     ]
    }
   ],
   "source": [
    "# Train the model\n",
    "clf = grid_search.best_estimator_\n",
    "print(\"Training accuracy:\", clf.score(train_features, df_train['label']))\n",
    "pred = clf.predict(test_features)\n",
    "print(\"Testing accuracy:\", clf.score(test_features, df_test['label']))\n",
    "print(metrics.classification_report(df_test['label'], pred))"
   ]
  },
  {
   "cell_type": "code",
   "execution_count": 53,
   "metadata": {},
   "outputs": [
    {
     "name": "stdout",
     "output_type": "stream",
     "text": [
      "|               |   precision |   recall |   f1-score |    support |\n",
      "|:--------------|------------:|---------:|-----------:|-----------:|\n",
      "| business      |    0.952381 | 0.980392 |   0.966184 | 102        |\n",
      "| entertainment |    1        | 0.961039 |   0.980132 |  77        |\n",
      "| politics      |    0.9625   | 0.916667 |   0.939024 |  84        |\n",
      "| sport         |    0.980769 | 1        |   0.990291 | 102        |\n",
      "| tech          |    0.95122  | 0.975    |   0.962963 |  80        |\n",
      "| accuracy      |    0.968539 | 0.968539 |   0.968539 |   0.968539 |\n",
      "| macro avg     |    0.969374 | 0.96662  |   0.967719 | 445        |\n",
      "| weighted avg  |    0.968829 | 0.968539 |   0.968417 | 445        |\n"
     ]
    }
   ],
   "source": [
    "report = metrics.classification_report(df_test['label'], pred, output_dict=True)\n",
    "# to markdown\n",
    "report_df = pd.DataFrame(report).transpose()\n",
    "print(report_df.to_markdown())"
   ]
  },
  {
   "cell_type": "code",
   "execution_count": 56,
   "metadata": {},
   "outputs": [
    {
     "data": {
      "image/png": "[encoded data removed]",
      "text/plain": [
       "<Figure size 640x480 with 1 Axes>"
      ]
     },
     "metadata": {},
     "output_type": "display_data"
    }
   ],
   "source": [
    "# Feature importance\n",
    "feature_importance = clf.feature_importances_\n",
    "sorted_idx = np.argsort(feature_importance)[::-1][:20]\n",
    "pos = np.arange(sorted_idx.shape[0]) + .5\n",
    "plt.figure()\n",
    "plt.barh(pos, feature_importance[sorted_idx], align='center')\n",
    "plt.yticks(pos, np.array(list(vocab.keys()) + ['text_length', 'avg_token_length'])[sorted_idx])\n",
    "plt.xlabel('Feature Importance')\n",
    "plt.title('Feature Importance')\n",
    "plt.show()"
   ]
  }
 ],
 "metadata": {
  "kernelspec": {
   "display_name": "Python 3",
   "language": "python",
   "name": "python3"
  },
  "language_info": {
   "codemirror_mode": {
    "name": "ipython",
    "version": 3
   },
   "file_extension": ".py",
   "mimetype": "text/x-python",
   "name": "python",
   "nbconvert_exporter": "python",
   "pygments_lexer": "ipython3",
   "version": "3.10.12"
  },
  "orig_nbformat": 4
 },
 "nbformat": 4,
 "nbformat_minor": 2
}
